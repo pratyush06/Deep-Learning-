{
 "cells": [
  {
   "cell_type": "code",
   "execution_count": 1,
   "metadata": {},
   "outputs": [],
   "source": [
    "import keras\n",
    "from keras.preprocessing.image import ImageDataGenerator"
   ]
  },
  {
   "cell_type": "code",
   "execution_count": 2,
   "metadata": {},
   "outputs": [
    {
     "name": "stdout",
     "output_type": "stream",
     "text": [
      "Found 13877 images belonging to 81 classes.\n"
     ]
    }
   ],
   "source": [
    "classes=81\n",
    "img_rows=32\n",
    "img_col=32\n",
    "batch_size=16\n",
    "validation_dir='fruits-360/validation'\n",
    "validation_datagen=ImageDataGenerator(rescale=1./255)\n",
    "val_generator=validation_datagen.flow_from_directory(\n",
    "    validation_dir,\n",
    "    target_size=(img_rows,img_col),\n",
    "    batch_size=batch_size,\n",
    "    class_mode='categorical',\n",
    "    shuffle=False)"
   ]
  },
  {
   "cell_type": "code",
   "execution_count": 3,
   "metadata": {},
   "outputs": [],
   "source": [
    "class_labels=val_generator.class_indices\n",
    "class_labels={v:k for k ,v in class_labels.items()}"
   ]
  },
  {
   "cell_type": "code",
   "execution_count": 13,
   "metadata": {},
   "outputs": [],
   "source": [
    "from keras.models import load_model\n",
    "from keras.preprocessing import image\n",
    "import numpy as np\n",
    "import os\n",
    "import cv2\n",
    "from os import listdir\n",
    "from os.path import isfile, join\n",
    "import re"
   ]
  },
  {
   "cell_type": "code",
   "execution_count": 14,
   "metadata": {},
   "outputs": [],
   "source": [
    "def draw(name, pred, im, true_label):\n",
    "    black=[0,0,0]\n",
    "    expanded_image=cv2.copyMakeBorder(im, 160, 0, 0, 300, cv2.BORDER_CONSTANT, value=black)\n",
    "    cv2.putText(expanded_image, 'predicted- '+ pred, (20,20), cv2.FONT_HERSHEY_SIMPLEX,1, (0,0,255),2 )\n",
    "    cv2.putText(expanded_image, 'true- '+ true_label, (20,120), cv2.FONT_HERSHEY_SIMPLEX,1, (0,255,0),2 )\n",
    "    cv2.imshow(name, expanded_image)\n",
    "    \n",
    "    \n",
    "def getImage(path, img_width, img_height):\n",
    "    folder=list(filter(lambda x: os.path.isdir(os.path.join(path, x)),os.listdir(path)))\n",
    "    random_dir=np.random.randint(0,len(folder))\n",
    "    path_class=folder[random_dir]\n",
    "    file_path=path+path_class\n",
    "    file_name=[f for f in listdir(file_path) if isfile(join(file_path,f))]\n",
    "    random_file_index=np.random.randint(0,len(file_name))\n",
    "    image_name=file_name[random_file_index]\n",
    "    final_path=file_path +'/'+ image_name\n",
    "    return image.load_img(final_path, target_size=(32,32)),final_path, path_class\n",
    "\n"
   ]
  },
  {
   "cell_type": "code",
   "execution_count": 15,
   "metadata": {},
   "outputs": [],
   "source": [
    "from keras.models import load_model\n",
    "model=load_model('model/fruit_classifier.h5')\n",
    "files=[]\n",
    "prediction=[]\n",
    "true_labels=[]\n",
    "for i in range(0,10):\n",
    "    path='fruits-360/validation/'\n",
    "    img,final_path,true_label=getImage(path,32,32)\n",
    "    files.append(final_path)\n",
    "    true_labels.append(true_label)\n",
    "    x=image.img_to_array(img)\n",
    "    x=x*1./255\n",
    "    x=np.expand_dims(x,axis=0)\n",
    "    images=np.vstack([x])\n",
    "    classes=np.argmax(model.predict(x),axis=-1)\n",
    "    prediction.append(classes)\n",
    "\n",
    "    \n",
    "for i in range(0,len(files)):\n",
    "    image=cv2.imread(files[i])\n",
    "    draw('prediction', class_labels[prediction[i][0]],image,true_labels[i])\n",
    "    cv2.waitKey(0)\n",
    "cv2.destroyAllWindows()"
   ]
  },
  {
   "cell_type": "code",
   "execution_count": null,
   "metadata": {},
   "outputs": [],
   "source": []
  }
 ],
 "metadata": {
  "kernelspec": {
   "display_name": "Python 3",
   "language": "python",
   "name": "python3"
  },
  "language_info": {
   "codemirror_mode": {
    "name": "ipython",
    "version": 3
   },
   "file_extension": ".py",
   "mimetype": "text/x-python",
   "name": "python",
   "nbconvert_exporter": "python",
   "pygments_lexer": "ipython3",
   "version": "3.7.4"
  }
 },
 "nbformat": 4,
 "nbformat_minor": 4
}
