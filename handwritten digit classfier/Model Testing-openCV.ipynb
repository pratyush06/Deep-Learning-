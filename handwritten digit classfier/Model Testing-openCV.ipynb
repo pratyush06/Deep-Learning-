{
 "cells": [
  {
   "cell_type": "code",
   "execution_count": 1,
   "metadata": {},
   "outputs": [
    {
     "name": "stdout",
     "output_type": "stream",
     "text": [
      "28 28\n",
      "x_train shape (60000, 28, 28, 1)\n"
     ]
    }
   ],
   "source": [
    "from keras.datasets import mnist\n",
    "import cv2\n",
    "import numpy as np\n",
    "(x_train,y_train),(x_test,y_test)=mnist.load_data()\n",
    "\n",
    "img_rows=x_train[0].shape[0]\n",
    "img_cols=x_train[0].shape[1]\n",
    "print(img_rows,img_cols)\n",
    "x_train=x_train.reshape(x_train.shape[0],img_rows,img_cols,1)\n",
    "x_test=x_test.reshape(x_test.shape[0],img_rows,img_cols,1)\n",
    "input_shape=(img_rows,img_cols,1)\n",
    "x_train=x_train.astype('float32')\n",
    "x_test=x_test.astype('float32')\n",
    "x_train/=255\n",
    "x_test/=255\n",
    "print('x_train shape',x_train.shape)"
   ]
  },
  {
   "cell_type": "code",
   "execution_count": 5,
   "metadata": {},
   "outputs": [],
   "source": [
    "from keras.models import load_model\n",
    "model=load_model('model/hadwritten_digit_recognition_model.h5')"
   ]
  },
  {
   "cell_type": "code",
   "execution_count": 6,
   "metadata": {},
   "outputs": [],
   "source": [
    "def Draw(name,pred,img):\n",
    "    BLACK=[0,0,0]\n",
    "    image=cv2.copyMakeBorder(img,0,0,0,img.shape[0],cv2.BORDER_CONSTANT,value=BLACK)\n",
    "    image=cv2.cvtColor(image,cv2.COLOR_GRAY2BGR)\n",
    "    cv2.putText(image,str(pred),(150,70),cv2.FONT_HERSHEY_COMPLEX_SMALL,4,(0,255,0),2)\n",
    "    cv2.imshow(name,image)\n",
    "    pass\n",
    "\n",
    "for i in range(0,10):\n",
    "    random_num=np.random.randint(0,len(x_test))\n",
    "    image=x_train[random_num]    \n",
    "    image_resize=cv2.resize(image,None,fx=4,fy=4,interpolation=cv2.INTER_CUBIC)\n",
    "    image = image.reshape( 1,28, 28,1)\n",
    "    predicted_class=np.argmax(model.predict(image))\n",
    "    Draw(\"prediction\",predicted_class,image_resize)\n",
    "    cv2.waitKey()\n",
    "    \n",
    "cv2.destroyAllWindows()"
   ]
  },
  {
   "cell_type": "code",
   "execution_count": null,
   "metadata": {},
   "outputs": [],
   "source": []
  }
 ],
 "metadata": {
  "kernelspec": {
   "display_name": "Python 3",
   "language": "python",
   "name": "python3"
  },
  "language_info": {
   "codemirror_mode": {
    "name": "ipython",
    "version": 3
   },
   "file_extension": ".py",
   "mimetype": "text/x-python",
   "name": "python",
   "nbconvert_exporter": "python",
   "pygments_lexer": "ipython3",
   "version": "3.7.4"
  }
 },
 "nbformat": 4,
 "nbformat_minor": 4
}
